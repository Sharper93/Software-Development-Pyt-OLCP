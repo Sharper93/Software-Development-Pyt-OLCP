{
 "cells": [
  {
   "cell_type": "markdown",
   "metadata": {},
   "source": [
    "# Chapter 3 - Things to do\n",
    "\n",
    "__Table of Contents__\n",
    "\n",
    "- [3.1](#31---find-how-many-seconds-are-in-an-hour-using-interpreter)\n",
    "\n",
    "- [3.2](#32---assign-variable-for-seconds-per-hour)\n",
    "\n",
    "- [3.3](#33---find-seconds-in-a-day-with-seconds-per-hour-variable)\n",
    "\n",
    "- [3.4](#34---calcuate-seconds-per-day-with-new-variable-for-seconds-per-day)\n",
    "\n",
    "- [3.5](#35---divide-for-float)\n",
    "\n",
    "- [3.6](#36---divide-for-integer)\n"
   ]
  },
  {
   "cell_type": "markdown",
   "metadata": {},
   "source": [
    "## 3.1 Find how many seconds are in an hour using interpreter.\n",
    "\n",
    "3600 seconds per hour"
   ]
  },
  {
   "cell_type": "code",
   "execution_count": 31,
   "metadata": {},
   "outputs": [
    {
     "name": "stdout",
     "output_type": "stream",
     "text": [
      "Seconds per hour: 3600\n"
     ]
    }
   ],
   "source": [
    "#int variable for number of seconds in a minute\n",
    "seconds_per_minute: int = 60\n",
    "#int variable for number of minutes in a hour\n",
    "minutes_per_hour: int = 60\n",
    "\n",
    "#int variable for number of seconds in a hour and equation\n",
    "seconds_per_hour: int = seconds_per_minute * minutes_per_hour\n",
    "# print answer\n",
    "print(\"Seconds per hour:\", seconds_per_hour)\n",
    "\n"
   ]
  },
  {
   "cell_type": "markdown",
   "metadata": {},
   "source": [
    "## 3.2 Assign variable for seconds per hour"
   ]
  },
  {
   "cell_type": "code",
   "execution_count": 32,
   "metadata": {},
   "outputs": [],
   "source": [
    "seconds_per_hour: int = 3600"
   ]
  },
  {
   "cell_type": "markdown",
   "metadata": {},
   "source": [
    "## 3.3 Find seconds in a day with seconds per hour variable\n",
    "\n",
    "86400 seconds per day"
   ]
  },
  {
   "cell_type": "code",
   "execution_count": 33,
   "metadata": {},
   "outputs": [
    {
     "name": "stdout",
     "output_type": "stream",
     "text": [
      "Total seconds per day: 86400\n"
     ]
    }
   ],
   "source": [
    "# equation to calcuate seconds per day with seconds per hour variable only\n",
    "total_seconds_per_day: int = 24 * seconds_per_hour\n",
    "print(\"Total seconds per day:\", total_seconds_per_day)"
   ]
  },
  {
   "cell_type": "markdown",
   "metadata": {},
   "source": [
    "## 3.4 Calcuate seconds per day with new variable for seconds per day"
   ]
  },
  {
   "cell_type": "code",
   "execution_count": 34,
   "metadata": {},
   "outputs": [
    {
     "name": "stdout",
     "output_type": "stream",
     "text": [
      "Seconds per day: 86400\n"
     ]
    }
   ],
   "source": [
    "# calcuating seconds per day with variables for seconds per hour and hours per day\n",
    "\n",
    "seconds_per_hour: int = 3600\n",
    "# int variable for hours in a day\n",
    "hour_per_day: int = 24\n",
    "# int variable for seconds in a day\n",
    "seconds_per_day: int = seconds_per_hour * hour_per_day\n",
    "#print answer for how many seconda are in a day\n",
    "print(\"Seconds per day:\", seconds_per_day)\n"
   ]
  },
  {
   "cell_type": "markdown",
   "metadata": {},
   "source": [
    "## 3.5 Divide for float"
   ]
  },
  {
   "cell_type": "code",
   "execution_count": 35,
   "metadata": {},
   "outputs": [
    {
     "name": "stdout",
     "output_type": "stream",
     "text": [
      "24.0 hours in day\n"
     ]
    }
   ],
   "source": [
    "# equation for finding float number of seconds in day\n",
    "\n",
    "hours_in_day: float = seconds_per_day / seconds_per_hour\n",
    "print(hours_in_day, \"hours in day\")"
   ]
  },
  {
   "cell_type": "markdown",
   "metadata": {},
   "source": [
    "## 3.6 Divide for integer\n",
    "\n",
    "The answer 24 does agree with the float answer of 24.0 minus the .0."
   ]
  },
  {
   "cell_type": "code",
   "execution_count": 36,
   "metadata": {},
   "outputs": [
    {
     "name": "stdout",
     "output_type": "stream",
     "text": [
      "24 hours in day\n"
     ]
    }
   ],
   "source": [
    "# equation for finding integer number of seconds in day\n",
    "\n",
    "integer_hours_in_day: int = seconds_per_day // seconds_per_hour\n",
    "print(integer_hours_in_day, \"hours in day\")"
   ]
  }
 ],
 "metadata": {
  "kernelspec": {
   "display_name": "base",
   "language": "python",
   "name": "python3"
  },
  "language_info": {
   "codemirror_mode": {
    "name": "ipython",
    "version": 3
   },
   "file_extension": ".py",
   "mimetype": "text/x-python",
   "name": "python",
   "nbconvert_exporter": "python",
   "pygments_lexer": "ipython3",
   "version": "3.12.7"
  }
 },
 "nbformat": 4,
 "nbformat_minor": 2
}
