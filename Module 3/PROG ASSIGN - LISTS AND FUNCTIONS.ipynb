{
 "cells": [
  {
   "cell_type": "markdown",
   "metadata": {},
   "source": [
    "# MODULE 3 - PROGRAMMING ASSIGNMENT- LISTS AND FUNCTIONS\n",
    "\n",
    "Samantha Harper\\\n",
    "Date: 1/27/2025\n",
    "\n",
    "__TABLE OF CONTENTS__\n",
    "\n",
    "[7.4](#74---create-things-list)\n",
    "\n",
    "[7.5](#75---capitalize-name-element-in-list-things)\n",
    "\n",
    "[7.6](#76---modify-cheese-to-all-uppercase-characters-and-print-list)\n",
    "\n",
    "[7.7](#77---delete-the-disease-from-things-list)\n",
    "\n",
    "[9.1](#91---define-good-function-that-returns-a-list)\n",
    "\n",
    "[9.2](#92---define-generator-function-for-odd-numbers)\n",
    "\n",
    "---\n",
    "\n"
   ]
  },
  {
   "cell_type": "markdown",
   "metadata": {},
   "source": [
    "## 7.4 Create 'things' list"
   ]
  },
  {
   "cell_type": "code",
   "execution_count": 87,
   "metadata": {},
   "outputs": [],
   "source": [
    "things: list = ['mozzarella', 'cinderella', 'salmonella']\n"
   ]
  },
  {
   "cell_type": "markdown",
   "metadata": {},
   "source": [
    "## 7.5 Capitalize the name element in list 'things'"
   ]
  },
  {
   "cell_type": "code",
   "execution_count": 88,
   "metadata": {},
   "outputs": [
    {
     "name": "stdout",
     "output_type": "stream",
     "text": [
      "['mozzarella', 'Cinderella', 'salmonella']\n"
     ]
    }
   ],
   "source": [
    "things[1] = things[1].capitalize()\n",
    "\n",
    "print(things)"
   ]
  },
  {
   "cell_type": "markdown",
   "metadata": {},
   "source": [
    "## 7.6 Modify cheese to all uppercase characters and print list"
   ]
  },
  {
   "cell_type": "code",
   "execution_count": 89,
   "metadata": {},
   "outputs": [
    {
     "name": "stdout",
     "output_type": "stream",
     "text": [
      "['MOZZARELLA', 'Cinderella', 'salmonella']\n"
     ]
    }
   ],
   "source": [
    "things[0] = things[0].upper()\n",
    "\n",
    "print(things)\n",
    "\n"
   ]
  },
  {
   "cell_type": "markdown",
   "metadata": {},
   "source": [
    "## 7.7 Delete the disease from things list"
   ]
  },
  {
   "cell_type": "code",
   "execution_count": 90,
   "metadata": {},
   "outputs": [
    {
     "name": "stdout",
     "output_type": "stream",
     "text": [
      "['MOZZARELLA', 'Cinderella']\n"
     ]
    }
   ],
   "source": [
    "del things[2]\n",
    "\n",
    "print(things)"
   ]
  },
  {
   "cell_type": "markdown",
   "metadata": {},
   "source": [
    "## 9.1 Define 'good' function that returns a list"
   ]
  },
  {
   "cell_type": "code",
   "execution_count": 91,
   "metadata": {},
   "outputs": [
    {
     "name": "stdout",
     "output_type": "stream",
     "text": [
      "['Harry Potter', 'Ron Weasley', 'Hermione Granger']\n"
     ]
    }
   ],
   "source": [
    "def good() -> list:\n",
    "    return ['Harry Potter', 'Ron Weasley', 'Hermione Granger']\n",
    "\n",
    "print(good())"
   ]
  },
  {
   "cell_type": "markdown",
   "metadata": {},
   "source": [
    "## 9.2 Define generator function for Odd Numbers"
   ]
  },
  {
   "cell_type": "code",
   "execution_count": 94,
   "metadata": {},
   "outputs": [
    {
     "name": "stdout",
     "output_type": "stream",
     "text": [
      "The third value returned by get_odds() is:  5\n"
     ]
    }
   ],
   "source": [
    "from typing import Generator\n",
    "\n",
    "def gets_odds(first=1, last=10, step=2) -> Generator[int, None, None]:\n",
    "    \n",
    "    \"\"\"\n",
    "    Yields odds numbers in a given range\n",
    "    \"\"\"\n",
    "    \n",
    "    num = first\n",
    "    while num < last:\n",
    "        yield num\n",
    "        num += step\n",
    "\n",
    "i: int = 0 \n",
    "for num in gets_odds():\n",
    "    i = i + 1\n",
    "    if i == 3:\n",
    "        print(\"The third value returned by get_odds() is: \", num)\n",
    "    \n",
    "    \n",
    "    \n",
    "    "
   ]
  }
 ],
 "metadata": {
  "kernelspec": {
   "display_name": "base",
   "language": "python",
   "name": "python3"
  },
  "language_info": {
   "codemirror_mode": {
    "name": "ipython",
    "version": 3
   },
   "file_extension": ".py",
   "mimetype": "text/x-python",
   "name": "python",
   "nbconvert_exporter": "python",
   "pygments_lexer": "ipython3",
   "version": "3.12.7"
  }
 },
 "nbformat": 4,
 "nbformat_minor": 2
}
