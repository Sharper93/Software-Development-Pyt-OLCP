{
 "cells": [
  {
   "cell_type": "markdown",
   "metadata": {},
   "source": [
    "__LAB: FUNCTIONAL VS OOP PROGRAMMING__\n",
    "\n",
    "AUTHOR: Samantha Harper\n",
    "\n",
    "DATE: 01/31/2025\n",
    "\n",
    "__TABLE OF CONTENTS__\n",
    "\n",
    "- [1.1 Sort 0s, 1s, 2s](#11-sort-0s-1s-2s)\n",
    "- [2.1 Binary Search](#12-binary-search)\n",
    "\n"
   ]
  },
  {
   "cell_type": "markdown",
   "metadata": {},
   "source": [
    "## 1.1 Sort 0s, 1s, 2s"
   ]
  },
  {
   "cell_type": "code",
   "execution_count": 17,
   "metadata": {},
   "outputs": [
    {
     "name": "stdout",
     "output_type": "stream",
     "text": [
      "0 0 1 1 2 2 "
     ]
    }
   ],
   "source": [
    "\"\"\"\n",
    "\n",
    "Summary: Program will sort an array of 0s. 1s, and 2s in ascending order.\n",
    "Class Solution is used with method sort012. \n",
    "Method - sort012 will take the input array and sort offsets in ascending order regardless of original position. \n",
    "Function Main used to run program\n",
    "\n",
    "\"\"\"\n",
    "\n",
    "class Solution:\n",
    "    # Function to sort an array of 0s, 1s, and 2s\n",
    "    def sort012(self, arr):\n",
    "        # code here\n",
    "        pos_0 = 0\n",
    "        pos_1 = 0\n",
    "        pos_2 = 0\n",
    "\n",
    "        for num in arr:\n",
    "            if num == 0:\n",
    "                pos_0 += 1\n",
    "            elif num == 1:\n",
    "                pos_1 += 1\n",
    "            else:\n",
    "                pos_2 += 1\n",
    "\n",
    "        num_start = 0\n",
    "\n",
    "        for i in range(pos_0):\n",
    "            arr[num_start] = 0\n",
    "            num_start += 1\n",
    "\n",
    "        for i in range(pos_1):\n",
    "            arr[num_start] = 1\n",
    "            num_start += 1\n",
    "\n",
    "        for i in range(pos_2):\n",
    "            arr[num_start] = 2\n",
    "            num_start += 1\n",
    "\n",
    "def main():\n",
    "    order = Solution()\n",
    "    arr = [0, 1, 2, 0, 1, 2]\n",
    "    order.sort012(arr)\n",
    "\n",
    "\n",
    "    for x in arr:\n",
    "        print(x, end= \" \")\n",
    "\n",
    "if __name__ == \"__main__\":\n",
    "    main()\n",
    "        \n"
   ]
  },
  {
   "cell_type": "markdown",
   "metadata": {},
   "source": [
    "## 2.1 Binary Search"
   ]
  },
  {
   "cell_type": "code",
   "execution_count": 18,
   "metadata": {},
   "outputs": [
    {
     "name": "stdout",
     "output_type": "stream",
     "text": [
      "[1, 2, 3, 4, 5]\n",
      "The index of 4 is 3\n"
     ]
    }
   ],
   "source": [
    "\"\"\"\n",
    "\n",
    "Summary: Program will loop through an array and provide the index placment for variable.\n",
    "Class Solution is used with method binaryseaarch. \n",
    "Method - binarysearch will take the input array and variable k and calcuate the variable index\n",
    "\n",
    "\"\"\"\n",
    "class Solution:\n",
    "    def binarysearch(self, arr, k):\n",
    "        # Code Here:\n",
    "        # Initialize left and right pointers - left is 0 for first index and right -1 for last index\n",
    "        left, right = 0, len(arr) - 1  \n",
    "        # Variable to store the result\n",
    "        result = -1  \n",
    "        \n",
    "        while left <= right:\n",
    "            # Calculate the middle index\n",
    "            mid = left + (right - left) // 2  \n",
    "            \n",
    "            if arr[mid] == k:\n",
    "                # Found k, update result\n",
    "                result = mid  \n",
    "                # Continue searching in the left half for the smallest index\n",
    "                right = mid - 1  \n",
    "            elif arr[mid] < k:\n",
    "                # Move left pointer to mid + 1 to search in the right half\n",
    "                left = mid + 1  \n",
    "            else:\n",
    "                # Move right pointer to mid - 1 to search in the left half\n",
    "                right = mid - 1  \n",
    "        \n",
    "        # Return the index of k or -1 if not found\n",
    "        return result  \n",
    "\n",
    "\n",
    "# array and k value inputs\n",
    "arr = [1, 2, 3, 4, 5]\n",
    "k = 4\n",
    "\n",
    "# create instance of solution\n",
    "solution = Solution()\n",
    "\n",
    "# Run binarysearch function, print index of k\n",
    "print(arr)\n",
    "print(\"The index of\", k, \"is\", solution.binarysearch(arr, k))\n",
    "\n"
   ]
  }
 ],
 "metadata": {
  "kernelspec": {
   "display_name": "base",
   "language": "python",
   "name": "python3"
  },
  "language_info": {
   "codemirror_mode": {
    "name": "ipython",
    "version": 3
   },
   "file_extension": ".py",
   "mimetype": "text/x-python",
   "name": "python",
   "nbconvert_exporter": "python",
   "pygments_lexer": "ipython3",
   "version": "3.12.7"
  }
 },
 "nbformat": 4,
 "nbformat_minor": 2
}
