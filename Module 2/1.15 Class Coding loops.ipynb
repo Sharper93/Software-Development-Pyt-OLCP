{
 "cells": [
  {
   "cell_type": "code",
   "execution_count": 1,
   "metadata": {},
   "outputs": [
    {
     "name": "stdout",
     "output_type": "stream",
     "text": [
      "Too high, try again!\n",
      "Too high, try again!\n",
      "Too low, try again!\n",
      "Congratulations, you guessed the number correctly!\n"
     ]
    }
   ],
   "source": [
    "secret: int = 3\n",
    "guess: int = input(\"Please enter a number between 1 and 10: \")\n",
    "if str.isnumeric(guess):\n",
    "    guess = int(guess)\n",
    "else:\n",
    "    print(\"Please enter a numeric value.\")\n",
    "    \n",
    "while (guess != secret) and (guess != 0):\n",
    "    guess = input(\"Please enter a number between 1 and 10 (or 0 to quit): \")\n",
    "    if str.isnumeric(guess):\n",
    "        guess = int(guess)\n",
    "    else:\n",
    "        continue\n",
    "    \n",
    "    if secret > guess:\n",
    "        print(\"Too low, try again!\")\n",
    "    elif secret < guess:\n",
    "        print(\"Too high, try again!\")\n",
    "    elif secret == guess:\n",
    "        print(\"Congratulations, you guessed the number correctly!\")\n",
    "    else:\n",
    "        print(\"Better luck next time! Bye!\")"
   ]
  }
 ],
 "metadata": {
  "kernelspec": {
   "display_name": "base",
   "language": "python",
   "name": "python3"
  },
  "language_info": {
   "codemirror_mode": {
    "name": "ipython",
    "version": 3
   },
   "file_extension": ".py",
   "mimetype": "text/x-python",
   "name": "python",
   "nbconvert_exporter": "python",
   "pygments_lexer": "ipython3",
   "version": "3.12.7"
  }
 },
 "nbformat": 4,
 "nbformat_minor": 2
}
