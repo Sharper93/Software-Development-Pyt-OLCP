{
 "cells": [
  {
   "cell_type": "markdown",
   "metadata": {},
   "source": [
    "# Lab: Case Study - if...else and while\n",
    "\n",
    "Author: Smanantha Harper \\\n",
    "Date: 01/20/2025 \n",
    "\n",
    "__Honor Roll or Dean's List Checker__\\\n",
    "This application will allow user to enter name and GPA, then determine if the student has made Honor Roll. Dean's List, or neither. \n",
    "\n",
    "\n",
    "\n"
   ]
  },
  {
   "cell_type": "code",
   "execution_count": 8,
   "metadata": {},
   "outputs": [
    {
     "name": "stdout",
     "output_type": "stream",
     "text": [
      "GPA: 3.9 -- SAM HARPER has made the Dean's List.\n",
      "GPA: 3.4 -- ELLI SHEPARD has made the Honor Roll.\n",
      "GPA: 3.0 -- VICKI HENDERSON has not made either the Honor Roll or Dean's List.\n",
      "GPA: 3.51 -- ANDI HAWK has made the Dean's List.\n",
      "GPA: 3.24 -- MELISSA WILLIAMS has not made either the Honor Roll or Dean's List.\n",
      "GPA: 3.48 -- STEPHAN SMITH has made the Honor Roll.\n"
     ]
    }
   ],
   "source": [
    "# While Loop to iterate through students until xxx is entered to end loop\n",
    "\n",
    "# variable for first name prompt\n",
    "student_first_name: str = input(\"First Name of student: \" )\n",
    "\n",
    "#start loop\n",
    "while student_first_name != 'ZZZ':\n",
    "    \n",
    "    # prompt for last name of student\n",
    "    student_last_name: str = input(\"Last Name of \" + student_first_name.upper())\n",
    "    #prompt for GPA of student\n",
    "    current_GPA: float = float(input(\"Enter \" + student_first_name.upper() + \" \" + student_last_name.upper() + \"'s GPA: \")) \n",
    "    \n",
    "    #if statements to evaluate students GPA -- GPA is converted to string for print statement\n",
    "    if current_GPA >= 3.5:\n",
    "        print(\"GPA: \" + str(current_GPA) + \" -- \" + student_first_name.upper() + \" \"  + student_last_name.upper() + \" has made the Dean's List.\")\n",
    "    elif current_GPA >= 3.25:\n",
    "        print(\"GPA: \" + str(current_GPA) + \" -- \" + student_first_name.upper() + \" \"  + student_last_name.upper()  + \" has made the Honor Roll.\")\n",
    "    else:\n",
    "        print(\"GPA: \" + str(current_GPA) + \" -- \" + student_first_name.upper() + \" \"  + student_last_name.upper()  + \" has not made either the Honor Roll or Dean's List.\")\n",
    "    \n",
    "    \n",
    "    # loop back to beginning for new student to be entered or for teacher to exit program\n",
    "    student_first_name: str = input(\"First Name of NEXT student (or 'ZZZ' to end)\")\n",
    "    \n",
    "   \n",
    "    "
   ]
  }
 ],
 "metadata": {
  "kernelspec": {
   "display_name": "base",
   "language": "python",
   "name": "python3"
  },
  "language_info": {
   "codemirror_mode": {
    "name": "ipython",
    "version": 3
   },
   "file_extension": ".py",
   "mimetype": "text/x-python",
   "name": "python",
   "nbconvert_exporter": "python",
   "pygments_lexer": "ipython3",
   "version": "3.12.7"
  }
 },
 "nbformat": 4,
 "nbformat_minor": 2
}
