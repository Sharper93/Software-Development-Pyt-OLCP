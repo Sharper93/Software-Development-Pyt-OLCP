{
 "cells": [
  {
   "cell_type": "markdown",
   "metadata": {},
   "source": [
    "# MODULE 2 - PROGRAMMING ASSIGNMENT - LOOPS AND CONDITIONALS\n",
    "\n",
    "Author: Samantha Harper\\\n",
    "Date: 01/21/2025\n",
    "\n",
    "\n",
    "__Table of Contents__\n",
    "\n",
    "- [4.1](#41---guess-the-number)\n",
    "- [4.2](#42---if-we-match)\n",
    "- [6.1](#61---for-loop-to-print-values-in-list)\n",
    "- [6.2](#62---while-loop-to-guess-number)\n",
    "- [6.3](#63---for-loop-to-guess-number)\n",
    "\n",
    "\n"
   ]
  },
  {
   "cell_type": "markdown",
   "metadata": {},
   "source": [
    "## 4.1 GUESS THE NUMBER "
   ]
  },
  {
   "cell_type": "code",
   "execution_count": 31,
   "metadata": {},
   "outputs": [
    {
     "name": "stdout",
     "output_type": "stream",
     "text": [
      "Too low, try again!\n"
     ]
    }
   ],
   "source": [
    "secret: int = 3\n",
    "guess: int = 2\n",
    "\n",
    "if secret == guess:\n",
    "    print(\"Congratulations, you guessed the number correctly!\")\n",
    "elif secret > guess:\n",
    "    print(\"Too low, try again!\")\n",
    "else: \n",
    "    print(\"Too high, try again!\")"
   ]
  },
  {
   "cell_type": "markdown",
   "metadata": {},
   "source": [
    "## 4.2 IF WE MATCH "
   ]
  },
  {
   "cell_type": "code",
   "execution_count": 32,
   "metadata": {},
   "outputs": [
    {
     "name": "stdout",
     "output_type": "stream",
     "text": [
      "It's a pea!\n"
     ]
    }
   ],
   "source": [
    "small: bool = True\n",
    "green: bool = True\n",
    "\n",
    "if small: \n",
    "    if green:\n",
    "        print(\"It's a pea!\")\n",
    "    else: \n",
    "        print(\"It's a cherry!\")\n",
    "else:\n",
    "    if green: \n",
    "        print(\"It's a watermelon!\")\n",
    "    else: print(\"It's a pumpkin!\")\n",
    "    \n",
    "    "
   ]
  },
  {
   "cell_type": "markdown",
   "metadata": {},
   "source": [
    "## 6.1 FOR LOOP TO PRINT VALUES IN LIST"
   ]
  },
  {
   "cell_type": "code",
   "execution_count": 33,
   "metadata": {},
   "outputs": [
    {
     "name": "stdout",
     "output_type": "stream",
     "text": [
      "3\n",
      "2\n",
      "1\n",
      "0\n"
     ]
    }
   ],
   "source": [
    "num_lst: list = [3, 2, 1, 0]\n",
    "\n",
    "for num in num_lst:\n",
    "    print(num)\n",
    "    "
   ]
  },
  {
   "cell_type": "markdown",
   "metadata": {},
   "source": [
    "## 6.2 WHILE LOOP TO GUESS NUMBER"
   ]
  },
  {
   "cell_type": "code",
   "execution_count": 34,
   "metadata": {},
   "outputs": [
    {
     "name": "stdout",
     "output_type": "stream",
     "text": [
      "Too low!\n",
      "Too low!\n",
      "Too low!\n",
      "Too low!\n",
      "Too low!\n",
      "Too low!\n",
      "Found it!\n",
      "OPPS!!\n"
     ]
    }
   ],
   "source": [
    "guess_me: int = 7\n",
    "\n",
    "number: int = 1\n",
    "\n",
    "while True:\n",
    "    if number < guess_me:\n",
    "        print(\"Too low!\")\n",
    "    elif number == guess_me:\n",
    "        print(\"Found it!\")\n",
    "    else:\n",
    "        print(\"OPPS!!\")\n",
    "        break\n",
    "    number += 1\n",
    "\n",
    "\n",
    "\n",
    "        \n"
   ]
  },
  {
   "cell_type": "markdown",
   "metadata": {},
   "source": [
    "## 6.3 FOR LOOP TO GUESS NUMBER"
   ]
  },
  {
   "cell_type": "code",
   "execution_count": 35,
   "metadata": {},
   "outputs": [
    {
     "name": "stdout",
     "output_type": "stream",
     "text": [
      "Too low!\n",
      "Too low!\n",
      "Too low!\n",
      "Too low!\n",
      "Too low!\n",
      "Found it!\n"
     ]
    }
   ],
   "source": [
    "guess_me: int = 5\n",
    "\n",
    "for number in range(10):\n",
    "    if number < guess_me:\n",
    "        print(\"Too low!\")\n",
    "        continue\n",
    "    elif number == guess_me:\n",
    "        print(\"Found it!\")\n",
    "        break\n",
    "    else:\n",
    "        print(\"OPPS!!\")\n",
    "        break"
   ]
  }
 ],
 "metadata": {
  "kernelspec": {
   "display_name": "base",
   "language": "python",
   "name": "python3"
  },
  "language_info": {
   "codemirror_mode": {
    "name": "ipython",
    "version": 3
   },
   "file_extension": ".py",
   "mimetype": "text/x-python",
   "name": "python",
   "nbconvert_exporter": "python",
   "pygments_lexer": "ipython3",
   "version": "3.12.7"
  }
 },
 "nbformat": 4,
 "nbformat_minor": 2
}
